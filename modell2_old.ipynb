{
 "cells": [
  {
   "cell_type": "markdown",
   "id": "30129895-fb6c-4e64-b616-8eeadce5a893",
   "metadata": {},
   "source": [
    "# Modell 2 Alt: XGBoost-Modell mit Standardparametern\n",
    "Eine veraltete Version von Modell 2 New ohne Hyperparametertuning oder Feature importance."
   ]
  },
  {
   "cell_type": "code",
   "execution_count": 1,
   "id": "95b4daee-76b3-4039-badc-b4afb3d46726",
   "metadata": {},
   "outputs": [
    {
     "name": "stdout",
     "output_type": "stream",
     "text": [
      "Training des Modells...\n"
     ]
    },
    {
     "name": "stderr",
     "output_type": "stream",
     "text": [
      "Training: 100%|███████████████████████████████████| 1/1 [01:02<00:00, 62.32s/it]"
     ]
    },
    {
     "name": "stdout",
     "output_type": "stream",
     "text": [
      "Vorhersagen für Testdaten...\n",
      "✅ Ergebnisse wurden erfolgreich gespeichert: results.csv\n"
     ]
    },
    {
     "name": "stderr",
     "output_type": "stream",
     "text": [
      "\n"
     ]
    }
   ],
   "source": [
    "import os\n",
    "import pandas as pd\n",
    "import numpy as np\n",
    "from xgboost import XGBRegressor\n",
    "from tqdm import tqdm\n",
    "\n",
    "# Funktion zur Datenbereinigung\n",
    "def clean_data(df, is_train=True):\n",
    "    \"\"\"\n",
    "    Bereinigt den DataFrame:\n",
    "    - Ersetzt fehlende Werte (NaN) mit sinnvollen Standardwerten.\n",
    "    - Entfernt problematische Spaltennamen.\n",
    "    - Wandelt kategorische Spalten in numerische Werte um.\n",
    "    \"\"\"\n",
    "    # Fehlende Werte auffüllen\n",
    "    df.fillna(0, inplace=True)\n",
    "\n",
    "    # Spaltennamen bereinigen\n",
    "    df.columns = df.columns.str.replace(r\"[^a-zA-Z0-9_]\", \"_\", regex=True)\n",
    "\n",
    "    # Sicherstellen, dass alle Spalten numerisch sind\n",
    "    for col in df.columns:\n",
    "        if df[col].dtype == 'object':\n",
    "            df[col] = df[col].astype(str).astype('category').cat.codes\n",
    "\n",
    "    return df\n",
    "\n",
    "\n",
    "# Hauptskript\n",
    "def main():\n",
    "    # Aktuelles Arbeitsverzeichnis abrufen\n",
    "    current_dir = os.getcwd().replace(\"\\\\\", \"/\")\n",
    "\n",
    "    # Trainings- und Testdaten einlesen\n",
    "    train_path = os.path.join(current_dir, \"data/train.csv\")\n",
    "    test_path = os.path.join(current_dir, \"data/test.csv\")\n",
    "\n",
    "    df_train = pd.read_csv(train_path)\n",
    "    df_test = pd.read_csv(test_path)\n",
    "\n",
    "    # Daten bereinigen\n",
    "    df_train = clean_data(df_train, is_train=True)\n",
    "    df_test = clean_data(df_test, is_train=False)\n",
    "\n",
    "    # Sicherstellen, dass die Spalten von df_train und df_test übereinstimmen\n",
    "    missing_cols = set(df_train.columns) - set(df_test.columns)\n",
    "    for col in missing_cols:\n",
    "        df_test[col] = 0  # Fehlende Spalten in df_test hinzufügen und mit 0 füllen\n",
    "\n",
    "    extra_cols = set(df_test.columns) - set(df_train.columns)\n",
    "    df_test = df_test.drop(columns=extra_cols)  # Zusätzliche Spalten in df_test entfernen\n",
    "\n",
    "    # Spaltenreihenfolge angleichen\n",
    "    df_test = df_test[df_train.columns]\n",
    "\n",
    "    # Features und Zielvariable definieren\n",
    "    X_train = df_train.drop(columns=['efs', 'efs_time'], errors='ignore')\n",
    "    y_train = df_train['efs']\n",
    "\n",
    "    X_test = df_test.drop(columns=['efs', 'efs_time'], errors='ignore')\n",
    "\n",
    "    # Sicherstellen, dass nur numerische Spalten verwendet werden\n",
    "    X_train = X_train.select_dtypes(include=[np.number])\n",
    "    X_test = X_test.select_dtypes(include=[np.number])\n",
    "\n",
    "    # XGBRegressor initialisieren\n",
    "    xgb_model = XGBRegressor(\n",
    "        n_estimators=500,\n",
    "        learning_rate=0.05,\n",
    "        max_depth=5,\n",
    "        random_state=42\n",
    "    )\n",
    "\n",
    "    # Training mit Fortschrittsbalken\n",
    "    print(\"Training des Modells...\")\n",
    "    with tqdm(total=1, desc=\"Training\") as pbar:\n",
    "        xgb_model.fit(X_train, y_train)\n",
    "        pbar.update(1)\n",
    "\n",
    "    # Vorhersagen für Testdaten\n",
    "    print(\"Vorhersagen für Testdaten...\")\n",
    "    risk_scores = xgb_model.predict(X_test)\n",
    "\n",
    "    # Ergebnisse speichern\n",
    "    results = pd.DataFrame({'ID': df_test['ID'], 'risk_score': risk_scores})\n",
    "    results.to_csv(os.path.join(current_dir, \"modell_2_old.csv\"), index=False)\n",
    "    print(\"✅ Ergebnisse wurden erfolgreich gespeichert: results.csv\")\n",
    "\n",
    "\n",
    "if __name__ == \"__main__\":\n",
    "    main()\n"
   ]
  }
 ],
 "metadata": {
  "kernelspec": {
   "display_name": "Python (survival-env)",
   "language": "python",
   "name": "survival-env"
  },
  "language_info": {
   "codemirror_mode": {
    "name": "ipython",
    "version": 3
   },
   "file_extension": ".py",
   "mimetype": "text/x-python",
   "name": "python",
   "nbconvert_exporter": "python",
   "pygments_lexer": "ipython3",
   "version": "3.9.21"
  }
 },
 "nbformat": 4,
 "nbformat_minor": 5
}
