{
 "cells": [
  {
   "cell_type": "code",
   "execution_count": 4,
   "id": "6999be91-7640-4e82-a659-d749b71f7be1",
   "metadata": {},
   "outputs": [
    {
     "name": "stdout",
     "output_type": "stream",
     "text": [
      "Training des Modells...\n"
     ]
    },
    {
     "name": "stderr",
     "output_type": "stream",
     "text": [
      "Training: 100%|███████████████████████████████████| 1/1 [00:03<00:00,  3.40s/it]"
     ]
    },
    {
     "name": "stdout",
     "output_type": "stream",
     "text": [
      "Vorhersagen für Testdaten...\n",
      "✅ Ergebnisse wurden erfolgreich gespeichert: results.csv\n"
     ]
    },
    {
     "name": "stderr",
     "output_type": "stream",
     "text": [
      "\n"
     ]
    }
   ],
   "source": [
    "import os\n",
    "import pandas as pd\n",
    "import numpy as np\n",
    "from xgboost import XGBRegressor\n",
    "from tqdm import tqdm\n",
    "\n",
    "top_feature_cols = ['conditioning_intensity', 'year_hct', 'age_at_hct',\n",
    "                    'sex_match', 'donor_age', 'prim_disease_hct', 'gvhd_proph', \n",
    "                    'comorbidity_score', 'karnofsky_score', 'cyto_score_detail', \n",
    "                    'dri_score', 'cmv_status', 'race_group', 'in_vivo_tcd', 'hla_match_drb1_high', \n",
    "                    'tbi_status', 'cardiac', 'cyto_score', 'hla_nmdp_6', 'mrd_hct', 'hla_match_dqb1_high', \n",
    "                    'hla_match_a_low', 'pulm_severe', 'psych_disturb', 'hla_match_c_high', 'ID']\n",
    "\n",
    "def clean_data(df, is_train=True):\n",
    "    \"\"\"\n",
    "    Bereinigt den DataFrame:\n",
    "    - Ersetzt fehlende Werte (NaN) mit sinnvollen Standardwerten.\n",
    "    - Entfernt problematische Spaltennamen.\n",
    "    - Wandelt kategorische Spalten in numerische Werte um.\n",
    "    \"\"\"\n",
    "    df.fillna(0, inplace=True)\n",
    "    df.columns = df.columns.str.replace(r\"[^a-zA-Z0-9_]\", \"_\", regex=True)\n",
    "    for col in df.columns:\n",
    "        if df[col].dtype == 'object':\n",
    "            df[col] = df[col].astype(str).astype('category').cat.codes\n",
    "    return df\n",
    "\n",
    "def main():\n",
    "    # Aktuelles Arbeitsverzeichnis abrufen\n",
    "    current_dir = os.getcwd().replace(\"\\\\\", \"/\")\n",
    "\n",
    "    # Trainings- und Testdaten einlesen\n",
    "    train_path = os.path.join(current_dir, \"data/train.csv\")\n",
    "    test_path = os.path.join(current_dir, \"data/test.csv\")\n",
    "\n",
    "    df_train = pd.read_csv(train_path)\n",
    "    df_test = pd.read_csv(test_path)\n",
    "\n",
    "    # Daten bereinigen und auf die benötigten Spalten beschränken\n",
    "    df_train = clean_data(df_train, is_train=True)\n",
    "    df_train = df_train[top_feature_cols + ['efs', 'efs_time']]\n",
    "    \n",
    "    df_test = clean_data(df_test, is_train=False)\n",
    "    df_test = df_test[top_feature_cols]\n",
    "\n",
    "    # Features und Zielvariable definieren\n",
    "    X_train = df_train.drop(columns=['efs', 'efs_time'], errors='ignore')\n",
    "    y_train = df_train['efs']\n",
    "    X_test = df_test\n",
    "\n",
    "    # Nur numerische Spalten verwenden\n",
    "    X_train = X_train.select_dtypes(include=[np.number])\n",
    "    X_test = X_test.select_dtypes(include=[np.number])\n",
    "\n",
    "    # XGBRegressor initialisieren\n",
    "    xgb_model = XGBRegressor(\n",
    "        n_estimators=500,\n",
    "        learning_rate=0.05,\n",
    "        max_depth=5,\n",
    "        random_state=42\n",
    "    )\n",
    "\n",
    "    # Training mit Fortschrittsbalken\n",
    "    print(\"Training des Modells...\")\n",
    "    with tqdm(total=1, desc=\"Training\") as pbar:\n",
    "        xgb_model.fit(X_train, y_train)\n",
    "        pbar.update(1)\n",
    "\n",
    "    # Vorhersagen für Testdaten\n",
    "    print(\"Vorhersagen für Testdaten...\")\n",
    "    risk_scores = xgb_model.predict(X_test)\n",
    "    test_ids = X_test['ID']\n",
    "    # Ergebnisse speichern und dabei die gespeicherten IDs nutzen\n",
    "    if test_ids is not None:\n",
    "        results = pd.DataFrame({'ID': ID, 'prediction': prediction})\n",
    "    else:\n",
    "        results = pd.DataFrame({'prediction': risk_scores})\n",
    "    #results.to_csv(os.path.join(current_dir, \"results.csv\"), index=False)\n",
    "\n",
    "if __name__ == \"__main__\":\n",
    "    main()\n"
   ]
  },
  {
   "cell_type": "code",
   "execution_count": null,
   "id": "836db595-9e9a-4ffc-b1c8-18bb5a10a6a2",
   "metadata": {},
   "outputs": [],
   "source": []
  }
 ],
 "metadata": {
  "kernelspec": {
   "display_name": "Python (survival-env)",
   "language": "python",
   "name": "survival-env"
  },
  "language_info": {
   "codemirror_mode": {
    "name": "ipython",
    "version": 3
   },
   "file_extension": ".py",
   "mimetype": "text/x-python",
   "name": "python",
   "nbconvert_exporter": "python",
   "pygments_lexer": "ipython3",
   "version": "3.9.21"
  }
 },
 "nbformat": 4,
 "nbformat_minor": 5
}
