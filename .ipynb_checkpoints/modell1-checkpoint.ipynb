{
 "cells": [
  {
   "cell_type": "code",
   "execution_count": 1,
   "id": "56e5aef0-c3c1-4e98-aff5-4aefe61337c0",
   "metadata": {},
   "outputs": [
    {
     "name": "stdout",
     "output_type": "stream",
     "text": [
      "Defaulting to user installation because normal site-packages is not writeable\n",
      "Requirement already satisfied: pandas in /opt/conda/envs/torch/lib/python3.7/site-packages (1.1.4)\n",
      "Requirement already satisfied: python-dateutil>=2.7.3 in /opt/conda/envs/torch/lib/python3.7/site-packages (from pandas) (2.9.0)\n",
      "Requirement already satisfied: pytz>=2017.2 in /opt/conda/envs/torch/lib/python3.7/site-packages (from pandas) (2024.2)\n",
      "Requirement already satisfied: numpy>=1.15.4 in /opt/conda/envs/torch/lib/python3.7/site-packages (from pandas) (1.17.5)\n",
      "Requirement already satisfied: six>=1.5 in /opt/conda/envs/torch/lib/python3.7/site-packages (from python-dateutil>=2.7.3->pandas) (1.13.0)\n",
      "\u001b[33mDEPRECATION: tensorflow-serving-api 2.2.0 has a non-standard dependency specifier grpcio>=1.0<2. pip 24.1 will enforce this behaviour change. A possible replacement is to upgrade to a newer version of tensorflow-serving-api or contact the author to suggest that they release a version with a conforming dependency specifiers. Discussion can be found at https://github.com/pypa/pip/issues/12063\u001b[0m\u001b[33m\n",
      "\u001b[0mDefaulting to user installation because normal site-packages is not writeable\n",
      "Requirement already satisfied: scikit-learn in /opt/conda/envs/torch/lib/python3.7/site-packages (0.22.1)\n",
      "Requirement already satisfied: numpy>=1.11.0 in /opt/conda/envs/torch/lib/python3.7/site-packages (from scikit-learn) (1.17.5)\n",
      "Requirement already satisfied: scipy>=0.17.0 in /opt/conda/envs/torch/lib/python3.7/site-packages (from scikit-learn) (1.4.1)\n",
      "Requirement already satisfied: joblib>=0.11 in /opt/conda/envs/torch/lib/python3.7/site-packages (from scikit-learn) (0.13.2)\n",
      "\u001b[33mDEPRECATION: tensorflow-serving-api 2.2.0 has a non-standard dependency specifier grpcio>=1.0<2. pip 24.1 will enforce this behaviour change. A possible replacement is to upgrade to a newer version of tensorflow-serving-api or contact the author to suggest that they release a version with a conforming dependency specifiers. Discussion can be found at https://github.com/pypa/pip/issues/12063\u001b[0m\u001b[33m\n",
      "\u001b[0m"
     ]
    }
   ],
   "source": [
    "# Installation\n",
    "!pip install pandas\n",
    "!pip install scikit-learn"
   ]
  },
  {
   "cell_type": "code",
   "execution_count": 2,
   "id": "e466879d-2c13-4f6e-9284-19ab29da7c75",
   "metadata": {},
   "outputs": [],
   "source": [
    "# Generate requirements.txt\n",
    "!pip freeze > requirements.txt"
   ]
  },
  {
   "cell_type": "code",
   "execution_count": null,
   "id": "6914e811-6f8f-4305-9941-e89bb0cf9ad1",
   "metadata": {},
   "outputs": [],
   "source": []
  }
 ],
 "metadata": {
  "kernelspec": {
   "display_name": "Python 3 (ipykernel)",
   "language": "python",
   "name": "python3"
  },
  "language_info": {
   "codemirror_mode": {
    "name": "ipython",
    "version": 3
   },
   "file_extension": ".py",
   "mimetype": "text/x-python",
   "name": "python",
   "nbconvert_exporter": "python",
   "pygments_lexer": "ipython3",
   "version": "3.12.7"
  }
 },
 "nbformat": 4,
 "nbformat_minor": 5
}
