{
 "cells": [
  {
   "cell_type": "code",
   "execution_count": 10,
   "id": "95b4daee-76b3-4039-badc-b4afb3d46726",
   "metadata": {},
   "outputs": [
    {
     "name": "stdout",
     "output_type": "stream",
     "text": [
      "Training des Modells...\n"
     ]
    },
    {
     "name": "stderr",
     "output_type": "stream",
     "text": [
      "Training: 100%|███████████████████████████████████| 1/1 [00:58<00:00, 58.47s/it]"
     ]
    },
    {
     "name": "stdout",
     "output_type": "stream",
     "text": [
      "Vorhersagen für Testdaten...\n",
      "✅ Ergebnisse wurden erfolgreich gespeichert: results.csv\n"
     ]
    },
    {
     "name": "stderr",
     "output_type": "stream",
     "text": [
      "\n"
     ]
    }
   ],
   "source": [
    "import os\n",
    "import pandas as pd\n",
    "import numpy as np\n",
    "from xgboost import XGBRegressor\n",
    "from tqdm import tqdm\n",
    "\n",
    "# Funktion zur Datenbereinigung\n",
    "def clean_data(df, is_train=True):\n",
    "    \"\"\"\n",
    "    Bereinigt den DataFrame:\n",
    "    - Ersetzt fehlende Werte (NaN) mit sinnvollen Standardwerten.\n",
    "    - Entfernt problematische Spaltennamen.\n",
    "    - Wandelt kategorische Spalten in numerische Werte um.\n",
    "    \"\"\"\n",
    "    # Fehlende Werte auffüllen\n",
    "    df.fillna(0, inplace=True)\n",
    "\n",
    "    # Spaltennamen bereinigen\n",
    "    df.columns = df.columns.str.replace(r\"[^a-zA-Z0-9_]\", \"_\", regex=True)\n",
    "\n",
    "    # Sicherstellen, dass alle Spalten numerisch sind\n",
    "    for col in df.columns:\n",
    "        if df[col].dtype == 'object':\n",
    "            df[col] = df[col].astype(str).astype('category').cat.codes\n",
    "\n",
    "    return df\n",
    "\n",
    "\n",
    "# Hauptskript\n",
    "def main():\n",
    "    # Aktuelles Arbeitsverzeichnis abrufen\n",
    "    current_dir = os.getcwd().replace(\"\\\\\", \"/\")\n",
    "\n",
    "    # Trainings- und Testdaten einlesen\n",
    "    train_path = os.path.join(current_dir, \"data/train.csv\")\n",
    "    test_path = os.path.join(current_dir, \"data/test.csv\")\n",
    "\n",
    "    df_train = pd.read_csv(train_path)\n",
    "    df_test = pd.read_csv(test_path)\n",
    "\n",
    "    # Daten bereinigen\n",
    "    df_train = clean_data(df_train, is_train=True)\n",
    "    df_test = clean_data(df_test, is_train=False)\n",
    "\n",
    "    # Sicherstellen, dass die Spalten von df_train und df_test übereinstimmen\n",
    "    missing_cols = set(df_train.columns) - set(df_test.columns)\n",
    "    for col in missing_cols:\n",
    "        df_test[col] = 0  # Fehlende Spalten in df_test hinzufügen und mit 0 füllen\n",
    "\n",
    "    extra_cols = set(df_test.columns) - set(df_train.columns)\n",
    "    df_test = df_test.drop(columns=extra_cols)  # Zusätzliche Spalten in df_test entfernen\n",
    "\n",
    "    # Spaltenreihenfolge angleichen\n",
    "    df_test = df_test[df_train.columns]\n",
    "\n",
    "    # Features und Zielvariable definieren\n",
    "    X_train = df_train.drop(columns=['efs', 'efs_time'], errors='ignore')\n",
    "    y_train = df_train['efs']\n",
    "\n",
    "    X_test = df_test.drop(columns=['efs', 'efs_time'], errors='ignore')\n",
    "\n",
    "    # Sicherstellen, dass nur numerische Spalten verwendet werden\n",
    "    X_train = X_train.select_dtypes(include=[np.number])\n",
    "    X_test = X_test.select_dtypes(include=[np.number])\n",
    "\n",
    "    # XGBRegressor initialisieren\n",
    "    xgb_model = XGBRegressor(\n",
    "        n_estimators=500,\n",
    "        learning_rate=0.05,\n",
    "        max_depth=5,\n",
    "        random_state=42\n",
    "    )\n",
    "\n",
    "    # Training mit Fortschrittsbalken\n",
    "    print(\"Training des Modells...\")\n",
    "    with tqdm(total=1, desc=\"Training\") as pbar:\n",
    "        xgb_model.fit(X_train, y_train)\n",
    "        pbar.update(1)\n",
    "\n",
    "    # Vorhersagen für Testdaten\n",
    "    print(\"Vorhersagen für Testdaten...\")\n",
    "    risk_scores = xgb_model.predict(X_test)\n",
    "\n",
    "    # Ergebnisse speichern\n",
    "    results = pd.DataFrame({'ID': df_test['ID'], 'risk_score': risk_scores})\n",
    "    results.to_csv(os.path.join(current_dir, \"results.csv\"), index=False)\n",
    "    print(\"✅ Ergebnisse wurden erfolgreich gespeichert: results.csv\")\n",
    "\n",
    "\n",
    "if __name__ == \"__main__\":\n",
    "    main()\n"
   ]
  },
  {
   "cell_type": "code",
   "execution_count": 8,
   "id": "2f09f1cc-e5a8-4d84-9333-618843576c59",
   "metadata": {},
   "outputs": [
    {
     "name": "stdout",
     "output_type": "stream",
     "text": [
      "Spalten in df_train:\n",
      "['ID', 'hla_match_c_high', 'hla_high_res_8', 'hla_low_res_6', 'hla_high_res_6', 'hla_high_res_10', 'hla_match_dqb1_high', 'hla_nmdp_6', 'hla_match_c_low', 'hla_match_drb1_low', 'hla_match_dqb1_low', 'year_hct', 'hla_match_a_high', 'donor_age', 'hla_match_b_low', 'age_at_hct', 'hla_match_a_low', 'hla_match_b_high', 'comorbidity_score', 'karnofsky_score', 'hla_low_res_8', 'hla_match_drb1_high', 'hla_low_res_10', 'efs', 'efs_time', 'dri_score_High___TED_AML_case__missing_cytogenetics', 'dri_score_Intermediate', 'dri_score_Intermediate___TED_AML_case__missing_cytogenetics', 'dri_score_Low', 'dri_score_Missing_disease_status', 'dri_score_N_A___disease_not_classifiable', 'dri_score_N_A___non_malignant_indication', 'dri_score_N_A___pediatric', 'dri_score_TBD_cytogenetics', 'dri_score_Unknown', 'dri_score_Very_high', 'psych_disturb_Unknown', 'psych_disturb_Yes', 'cyto_score_Intermediate', 'cyto_score_Normal', 'cyto_score_Not_tested', 'cyto_score_Other', 'cyto_score_Poor', 'cyto_score_Unknown', 'diabetes_Unknown', 'diabetes_Yes', 'tbi_status_TBI___Cy____Other', 'tbi_status_TBI____Other___cGy__fractionated', 'tbi_status_TBI____Other___cGy__single', 'tbi_status_TBI____Other___cGy__unknown_dose', 'tbi_status_TBI____Other____cGy', 'tbi_status_TBI____Other___cGy', 'tbi_status_TBI____Other__unknown_dose', 'arrhythmia_Unknown', 'arrhythmia_Yes', 'graft_type_Peripheral_blood', 'vent_hist_Unknown', 'vent_hist_Yes', 'renal_issue_Unknown', 'renal_issue_Yes', 'pulm_severe_Unknown', 'pulm_severe_Yes', 'prim_disease_hct_ALL', 'prim_disease_hct_AML', 'prim_disease_hct_CML', 'prim_disease_hct_HD', 'prim_disease_hct_HIS', 'prim_disease_hct_IEA', 'prim_disease_hct_IIS', 'prim_disease_hct_IMD', 'prim_disease_hct_IPA', 'prim_disease_hct_MDS', 'prim_disease_hct_MPN', 'prim_disease_hct_NHL', 'prim_disease_hct_Other_acute_leukemia', 'prim_disease_hct_Other_leukemia', 'prim_disease_hct_PCD', 'prim_disease_hct_SAA', 'prim_disease_hct_Solid_tumor', 'cmv_status____', 'cmv_status____', 'cmv_status____', 'cmv_status_Unknown', 'tce_imm_match_G_G', 'tce_imm_match_H_B', 'tce_imm_match_H_H', 'tce_imm_match_P_B', 'tce_imm_match_P_G', 'tce_imm_match_P_H', 'tce_imm_match_P_P', 'tce_imm_match_Unknown', 'rituximab_Unknown', 'rituximab_Yes', 'prod_type_PB', 'cyto_score_detail_Intermediate', 'cyto_score_detail_Not_tested', 'cyto_score_detail_Poor', 'cyto_score_detail_Unknown', 'conditioning_intensity_N_A__F_pre_TED__not_submitted', 'conditioning_intensity_NMA', 'conditioning_intensity_No_drugs_reported', 'conditioning_intensity_RIC', 'conditioning_intensity_Unknown', 'ethnicity_Non_resident_of_the_U_S_', 'ethnicity_Not_Hispanic_or_Latino', 'ethnicity_Unknown', 'obesity_Unknown', 'obesity_Yes', 'mrd_hct_Positive', 'mrd_hct_Unknown', 'in_vivo_tcd_Unknown', 'in_vivo_tcd_Yes', 'tce_match_Fully_matched', 'tce_match_GvH_non_permissive', 'tce_match_HvG_non_permissive', 'tce_match_Permissive', 'hepatic_severe_Unknown', 'hepatic_severe_Yes', 'prior_tumor_Unknown', 'prior_tumor_Yes', 'peptic_ulcer_Unknown', 'peptic_ulcer_Yes', 'gvhd_proph_CDselect_alone', 'gvhd_proph_CSA___MMF____others_not_FK_', 'gvhd_proph_CSA___MTX____others_not_MMF_FK_', 'gvhd_proph_CSA____others_not_FK_MMF_MTX_', 'gvhd_proph_CSA_alone', 'gvhd_proph_Cyclophosphamide____others', 'gvhd_proph_Cyclophosphamide_alone', 'gvhd_proph_FK__MMF____others', 'gvhd_proph_FK__MTX____others_not_MMF_', 'gvhd_proph_FK___others_not_MMF_MTX_', 'gvhd_proph_FKalone', 'gvhd_proph_No_GvHD_Prophylaxis', 'gvhd_proph_Other_GVHD_Prophylaxis', 'gvhd_proph_Parent_Q___yes__but_no_agent', 'gvhd_proph_TDEPLETION____other', 'gvhd_proph_TDEPLETION_alone', 'gvhd_proph_Unknown', 'rheum_issue_Unknown', 'rheum_issue_Yes', 'sex_match_F_M', 'sex_match_M_F', 'sex_match_M_M', 'sex_match_Unknown', 'race_group_Asian', 'race_group_Black_or_African_American', 'race_group_More_than_one_race', 'race_group_Native_Hawaiian_or_other_Pacific_Islander', 'race_group_White', 'hepatic_mild_Unknown', 'hepatic_mild_Yes', 'tce_div_match_GvH_non_permissive', 'tce_div_match_HvG_non_permissive', 'tce_div_match_Permissive_mismatched', 'tce_div_match_Unknown', 'donor_related_Related', 'donor_related_Unknown', 'donor_related_Unrelated', 'melphalan_dose_N_A__Mel_not_given', 'melphalan_dose_Unknown', 'cardiac_Unknown', 'cardiac_Yes', 'pulm_moderate_Unknown', 'pulm_moderate_Yes']\n",
      "\n",
      "Spalten in df_test:\n",
      "['ID', 'hla_match_c_high', 'hla_high_res_8', 'hla_low_res_6', 'hla_high_res_6', 'hla_high_res_10', 'hla_match_dqb1_high', 'hla_nmdp_6', 'hla_match_c_low', 'hla_match_drb1_low', 'hla_match_dqb1_low', 'year_hct', 'hla_match_a_high', 'donor_age', 'hla_match_b_low', 'age_at_hct', 'hla_match_a_low', 'hla_match_b_high', 'comorbidity_score', 'karnofsky_score', 'hla_low_res_8', 'hla_match_drb1_high', 'hla_low_res_10', 'dri_score_N_A___non_malignant_indication', 'cyto_score_Intermediate', 'tbi_status_TBI____Other___cGy', 'graft_type_Peripheral_blood', 'prim_disease_hct_HIS', 'prim_disease_hct_IEA', 'tce_imm_match_Unknown', 'prod_type_PB', 'cyto_score_detail_Intermediate', 'conditioning_intensity_MAC', 'mrd_hct_Positive', 'in_vivo_tcd_Yes', 'tce_match_Permissive', 'gvhd_proph_FKalone', 'gvhd_proph_Other_GVHD_Prophylaxis', 'sex_match_F_M', 'sex_match_M_F', 'race_group_More_than_one_race', 'tce_div_match_Unknown', 'donor_related_Unrelated', 'pulm_moderate_Yes']\n"
     ]
    }
   ],
   "source": [
    "# Alle Spalten von df_train ausgeben\n",
    "print(\"Spalten in df_train:\")\n",
    "print(df_train.columns.tolist())\n",
    "\n",
    "# Alle Spalten von df_test ausgeben\n",
    "print(\"\\nSpalten in df_test:\")\n",
    "print(df_test.columns.tolist())\n",
    "\n"
   ]
  },
  {
   "cell_type": "code",
   "execution_count": null,
   "id": "2ab4a9b8-b61c-4147-8397-e989123baf70",
   "metadata": {},
   "outputs": [],
   "source": []
  }
 ],
 "metadata": {
  "kernelspec": {
   "display_name": "Python (survival-env)",
   "language": "python",
   "name": "survival-env"
  },
  "language_info": {
   "codemirror_mode": {
    "name": "ipython",
    "version": 3
   },
   "file_extension": ".py",
   "mimetype": "text/x-python",
   "name": "python",
   "nbconvert_exporter": "python",
   "pygments_lexer": "ipython3",
   "version": "3.9.21"
  }
 },
 "nbformat": 4,
 "nbformat_minor": 5
}
