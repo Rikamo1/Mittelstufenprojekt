{
 "cells": [
  {
   "cell_type": "code",
   "execution_count": 1,
   "id": "1ef7841d-0f42-4fd7-bd99-20ef868db226",
   "metadata": {},
   "outputs": [],
   "source": [
    "import pandas as pd\n",
    "import numpy as np\n",
    "import re\n",
    "from collections import defaultdict\n",
    "from tqdm import tqdm\n",
    "from sklearn.preprocessing import OneHotEncoder\n",
    "from sklearn.model_selection import StratifiedKFold\n",
    "from sklearn.metrics import roc_auc_score\n",
    "from lightgbm import LGBMClassifier, early_stopping\n",
    "from sklearn.pipeline import Pipeline\n",
    "from sklearn.compose import ColumnTransformer  \n",
    "from sklearn.impute import SimpleImputer "
   ]
  },
  {
   "cell_type": "code",
   "execution_count": 2,
   "id": "e7423f18-611d-412b-909f-73483df2dda9",
   "metadata": {},
   "outputs": [],
   "source": [
    "\n",
    "# 1. Daten laden\n",
    "train_df = pd.read_csv(\"data/train.csv\")\n",
    "test_df = pd.read_csv(\"data/test.csv\")"
   ]
  },
  {
   "cell_type": "code",
   "execution_count": 8,
   "id": "8e2260fe-f1f7-4590-a1c6-d33f766627b1",
   "metadata": {},
   "outputs": [
    {
     "name": "stderr",
     "output_type": "stream",
     "text": [
      "Training Folds:   0%|                                     | 0/5 [00:00<?, ?it/s]"
     ]
    },
    {
     "name": "stdout",
     "output_type": "stream",
     "text": [
      "[LightGBM] [Info] Number of positive: 12426, number of negative: 10614\n",
      "[LightGBM] [Info] Auto-choosing row-wise multi-threading, the overhead of testing was 0.023445 seconds.\n",
      "You can set `force_row_wise=true` to remove the overhead.\n",
      "And if memory is not enough, you can set `force_col_wise=true`.\n",
      "[LightGBM] [Info] Total Bins 636\n",
      "[LightGBM] [Info] Number of data points in the train set: 23040, number of used features: 55\n",
      "[LightGBM] [Info] [binary:BoostFromScore]: pavg=0.500000 -> initscore=0.000000\n",
      "[LightGBM] [Info] Start training from score 0.000000\n",
      "Training until validation scores don't improve for 50 rounds\n"
     ]
    },
    {
     "name": "stderr",
     "output_type": "stream",
     "text": [
      "Training Folds:  20%|█████▊                       | 1/5 [00:00<00:03,  1.05it/s]"
     ]
    },
    {
     "name": "stdout",
     "output_type": "stream",
     "text": [
      "Early stopping, best iteration is:\n",
      "[73]\tvalid_0's auc: 0.721179\tvalid_0's binary_logloss: 0.612338\n",
      "[LightGBM] [Info] Number of positive: 12426, number of negative: 10614\n",
      "[LightGBM] [Info] Auto-choosing row-wise multi-threading, the overhead of testing was 0.001589 seconds.\n",
      "You can set `force_row_wise=true` to remove the overhead.\n",
      "And if memory is not enough, you can set `force_col_wise=true`.\n",
      "[LightGBM] [Info] Total Bins 636\n",
      "[LightGBM] [Info] Number of data points in the train set: 23040, number of used features: 55\n",
      "[LightGBM] [Info] [binary:BoostFromScore]: pavg=0.500000 -> initscore=0.000000\n",
      "[LightGBM] [Info] Start training from score 0.000000\n",
      "Training until validation scores don't improve for 50 rounds\n"
     ]
    },
    {
     "name": "stderr",
     "output_type": "stream",
     "text": [
      "Training Folds:  40%|███████████▌                 | 2/5 [00:02<00:03,  1.18s/it]"
     ]
    },
    {
     "name": "stdout",
     "output_type": "stream",
     "text": [
      "Early stopping, best iteration is:\n",
      "[134]\tvalid_0's auc: 0.700997\tvalid_0's binary_logloss: 0.623178\n",
      "[LightGBM] [Info] Number of positive: 12426, number of negative: 10614\n",
      "[LightGBM] [Info] Auto-choosing row-wise multi-threading, the overhead of testing was 0.001608 seconds.\n",
      "You can set `force_row_wise=true` to remove the overhead.\n",
      "And if memory is not enough, you can set `force_col_wise=true`.\n",
      "[LightGBM] [Info] Total Bins 636\n",
      "[LightGBM] [Info] Number of data points in the train set: 23040, number of used features: 55\n",
      "[LightGBM] [Info] [binary:BoostFromScore]: pavg=0.500000 -> initscore=0.000000\n",
      "[LightGBM] [Info] Start training from score 0.000000\n",
      "Training until validation scores don't improve for 50 rounds\n"
     ]
    },
    {
     "name": "stderr",
     "output_type": "stream",
     "text": [
      "Training Folds:  60%|█████████████████▍           | 3/5 [00:03<00:02,  1.22s/it]"
     ]
    },
    {
     "name": "stdout",
     "output_type": "stream",
     "text": [
      "Early stopping, best iteration is:\n",
      "[116]\tvalid_0's auc: 0.717004\tvalid_0's binary_logloss: 0.614395\n",
      "[LightGBM] [Info] Number of positive: 12425, number of negative: 10615\n",
      "[LightGBM] [Info] Auto-choosing row-wise multi-threading, the overhead of testing was 0.001665 seconds.\n",
      "You can set `force_row_wise=true` to remove the overhead.\n",
      "And if memory is not enough, you can set `force_col_wise=true`.\n",
      "[LightGBM] [Info] Total Bins 636\n",
      "[LightGBM] [Info] Number of data points in the train set: 23040, number of used features: 55\n",
      "[LightGBM] [Info] [binary:BoostFromScore]: pavg=0.500000 -> initscore=0.000000\n",
      "[LightGBM] [Info] Start training from score 0.000000\n",
      "Training until validation scores don't improve for 50 rounds\n"
     ]
    },
    {
     "name": "stderr",
     "output_type": "stream",
     "text": [
      "Training Folds:  80%|███████████████████████▏     | 4/5 [00:04<00:01,  1.21s/it]"
     ]
    },
    {
     "name": "stdout",
     "output_type": "stream",
     "text": [
      "Early stopping, best iteration is:\n",
      "[105]\tvalid_0's auc: 0.713506\tvalid_0's binary_logloss: 0.616414\n",
      "[LightGBM] [Info] Number of positive: 12425, number of negative: 10615\n",
      "[LightGBM] [Info] Auto-choosing row-wise multi-threading, the overhead of testing was 0.001199 seconds.\n",
      "You can set `force_row_wise=true` to remove the overhead.\n",
      "And if memory is not enough, you can set `force_col_wise=true`.\n",
      "[LightGBM] [Info] Total Bins 636\n",
      "[LightGBM] [Info] Number of data points in the train set: 23040, number of used features: 55\n",
      "[LightGBM] [Info] [binary:BoostFromScore]: pavg=0.500000 -> initscore=0.000000\n",
      "[LightGBM] [Info] Start training from score 0.000000\n",
      "Training until validation scores don't improve for 50 rounds\n"
     ]
    },
    {
     "name": "stderr",
     "output_type": "stream",
     "text": [
      "Training Folds: 100%|█████████████████████████████| 5/5 [00:06<00:00,  1.21s/it]"
     ]
    },
    {
     "name": "stdout",
     "output_type": "stream",
     "text": [
      "Early stopping, best iteration is:\n",
      "[136]\tvalid_0's auc: 0.711721\tvalid_0's binary_logloss: 0.619048\n"
     ]
    },
    {
     "name": "stderr",
     "output_type": "stream",
     "text": [
      "\n"
     ]
    }
   ],
   "source": [
    "# 1. Data Cleaning\n",
    "def clean_data(df: pd.DataFrame) -> pd.DataFrame:\n",
    "    cleaned = df.copy()\n",
    "    \n",
    "    # Zieltabelle erstellen\n",
    "    if 'efs' in cleaned.columns:\n",
    "        cleaned['efs'] = cleaned['efs'].replace({'Event': 1, 'Censoring': 0})\n",
    "        cleaned = cleaned[cleaned['efs'].isin([0, 1])]\n",
    "    \n",
    "    return cleaned\n",
    "\n",
    "# 2. Preprocessing-Pipeline (Kernel für Train/Test-Konsistenz)\n",
    "cat_cols = [\"dri_score\", \"cyto_score\", \"graft_type\", \n",
    "           \"conditioning_intensity\", \"cmv_status\", \"prim_disease_hct\"]\n",
    "num_cols = [\"comorbidity_score\", \"age_at_hct\", \"donor_age\", \n",
    "           \"hla_high_res_8\", \"karnofsky_score\"]\n",
    "\n",
    "preprocessor = ColumnTransformer([\n",
    "    ('cat', OneHotEncoder(handle_unknown='ignore'), cat_cols),\n",
    "    ('num', Pipeline([\n",
    "        ('impute', SimpleImputer(strategy='median')),\n",
    "    ]), num_cols)\n",
    "], remainder='drop')\n",
    "\n",
    "# 3. Daten laden und vorverarbeiten\n",
    "train_raw = train_df\n",
    "test_raw = test_df\n",
    "\n",
    "train_df = clean_data(train_raw)\n",
    "test_df = clean_data(test_raw)\n",
    "\n",
    "# WICHTIG: Preprocessing einmal auf alle Daten anwenden\n",
    "X_train = preprocessor.fit_transform(train_df)\n",
    "y_train = train_df['efs'].values\n",
    "X_test = preprocessor.transform(test_df)  # Einmalige Transformation [[1]]\n",
    "\n",
    "# 4. Modellkonfiguration\n",
    "model = LGBMClassifier(\n",
    "    objective=\"binary\",\n",
    "    class_weight=\"balanced\",\n",
    "    n_estimators=1000,\n",
    "    learning_rate=0.05,\n",
    "    random_state=42\n",
    ")\n",
    "\n",
    "# 5. Cross-Validation\n",
    "cv = StratifiedKFold(n_splits=5)\n",
    "test_preds = []\n",
    "progress_bar = tqdm(cv.split(X_train, y_train), total=5, desc=\"Training Folds\")\n",
    "\n",
    "for fold, (train_idx, val_idx) in enumerate(progress_bar):\n",
    "    X_tr, y_tr = X_train[train_idx], y_train[train_idx]\n",
    "    X_val, y_val = X_train[val_idx], y_train[val_idx]\n",
    "    \n",
    "    model.fit(\n",
    "        X_tr, y_tr,\n",
    "        eval_set=[(X_val, y_val)],\n",
    "        callbacks=[early_stopping(stopping_rounds=50)],\n",
    "        eval_metric=\"auc\",\n",
    "    )\n",
    "    \n",
    "    # PRE-verarbeiteter Test-Datensatz [[1]]\n",
    "    test_preds.append(model.predict_proba(X_test)[:, 1])  \n",
    "\n",
    "# 6. Ensembling\n",
    "final_preds = np.mean(test_preds, axis=0)\n",
    "\n",
    "test_df.head().T\n",
    "#test_df['predicted_efs_prob'] = final_preds\n",
    "test_df[['ID', 'predicted_efs_prob']].to_csv(\"predictions_model_3.csv\", index=False)\n"
   ]
  },
  {
   "cell_type": "code",
   "execution_count": 9,
   "id": "af2898d8-0e84-4d82-a1a6-cbbda2fc4b9f",
   "metadata": {},
   "outputs": [
    {
     "name": "stdout",
     "output_type": "stream",
     "text": [
      "Vorhersagen gespeichert in test_predictions.csv\n",
      "done\n"
     ]
    }
   ],
   "source": [
    "# Finale Vorhersagen in Datei speichern\n",
    "submission_df = pd.DataFrame({\n",
    "    \"id\": test_df[\"ID\"],  # ID-Spalte aus der Originaldatei\n",
    "    \"predicted_efs_prob\": final_preds  # Vorhersage-Scores\n",
    "})\n",
    "\n",
    "# Ohne Index speichern [[1]][[3]][[10]]\n",
    "submission_df.to_csv(\"predictions_model_3.csv\", index=False)\n",
    "print(\"Vorhersagen gespeichert in test_predictions.csv\")\n",
    "\n",
    "print(\"done\")"
   ]
  },
  {
   "cell_type": "code",
   "execution_count": null,
   "id": "d540032a-0091-45ba-a673-55814745c05f",
   "metadata": {},
   "outputs": [],
   "source": []
  }
 ],
 "metadata": {
  "kernelspec": {
   "display_name": "Python (survival-env)",
   "language": "python",
   "name": "survival-env"
  },
  "language_info": {
   "codemirror_mode": {
    "name": "ipython",
    "version": 3
   },
   "file_extension": ".py",
   "mimetype": "text/x-python",
   "name": "python",
   "nbconvert_exporter": "python",
   "pygments_lexer": "ipython3",
   "version": "3.9.21"
  }
 },
 "nbformat": 4,
 "nbformat_minor": 5
}
